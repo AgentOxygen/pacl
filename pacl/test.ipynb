{
 "cells": [
  {
   "cell_type": "code",
   "execution_count": 1,
   "metadata": {},
   "outputs": [
    {
     "name": "stdout",
     "output_type": "stream",
     "text": [
      "\u001b[36mCheck 2 Err Output: \n",
      "The data variable names are NOT the same. Here are the names: \u001b[0m\n",
      "['lat_bnds', 'lon_bnds', 'sfcWind', 'time_bnds']\n",
      "['lat_bnds', 'lon_bnds', 'tasmax', 'time_bnds']\n",
      "\u001b[36mCheck 4 Err Output: \n",
      "The data variables NOT the same, so the units check fails by default.\u001b[0m\n",
      "\n",
      "\n",
      "SUMMARY: 2/4 checks passed.\n",
      "=============================================================\n",
      "\u001b[32mCheck 1 passed: Spatial coordinates are equivalent across all datasets.\n",
      "\u001b[0m\u001b[31mCheck 2 failed: Variables do not have the same name across all datasets. A majority of them are different from each other.\n",
      "\u001b[0m\u001b[32mCheck 3 passed: Time coordinates are monotonic and use the same calendar across all datasets.\n",
      "\u001b[0m\u001b[31mCheck 4 failed: Units are not equivalent across all datasets. A majority of them are different from each other.\n",
      "\u001b[0m\n"
     ]
    }
   ],
   "source": [
    "from check_zarr import *\n",
    "\n",
    "# this one will fail 2/4 bc they're different variables lol\n",
    "check_zarr(['/projects/dgs/persad_research/SIMULATION_DATA/ZARR/RAMIP/SIM_VARIABLES/CESM2_ssp370-LE_day_sfcWind.zarr', '/projects/dgs/persad_research/SIMULATION_DATA/ZARR/RAMIP/SIM_VARIABLES/CESM2_ssp370-LE_day_tasmax.zarr'], True)\n",
    "# check_zarr(['/projects/dgs/persad_research/SIMULATION_DATA/ZARR/RAMIP/SIM_VARIABLES/CESM2_ssp370-LE_day_sfcWind.zarr', '/projects/dgs/persad_research/SIMULATION_DATA/ZARR/RAMIP/SIM_VARIABLES/CESM2_ssp370-AFR126aer_day_sfcWind.zarr'], True)"
   ]
  },
  {
   "cell_type": "code",
   "execution_count": null,
   "metadata": {},
   "outputs": [],
   "source": []
  },
  {
   "cell_type": "code",
   "execution_count": 2,
   "metadata": {},
   "outputs": [],
   "source": [
    "# check_zarr('/projects/dgs/persad_research/SIMULATION_DATA/ZARR/RAMIP/SIM_VARIABLES/CESM2_ssp370-EAS126aer_day_hurs.zarr', True)"
   ]
  }
 ],
 "metadata": {
  "kernelspec": {
   "display_name": "lab",
   "language": "python",
   "name": "python3"
  },
  "language_info": {
   "codemirror_mode": {
    "name": "ipython",
    "version": 3
   },
   "file_extension": ".py",
   "mimetype": "text/x-python",
   "name": "python",
   "nbconvert_exporter": "python",
   "pygments_lexer": "ipython3",
   "version": "3.12.4"
  }
 },
 "nbformat": 4,
 "nbformat_minor": 2
}
