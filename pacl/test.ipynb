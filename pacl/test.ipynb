{
 "cells": [
  {
   "cell_type": "code",
   "execution_count": 1,
   "metadata": {},
   "outputs": [
    {
     "name": "stdout",
     "output_type": "stream",
     "text": [
      "\n",
      "\n",
      "SUMMARY: 0/4 checks passed.\n",
      "=============================================================\n",
      "\u001b[31mCheck 1 failed: Spatial coordinates are not equivalent across all datasets. A majority of them are different from each other.\n",
      "\u001b[0m\u001b[31mCheck 2 failed: Variables do not have the same name across all datasets. A majority of them are different from each other.\n",
      "\u001b[0m\u001b[31mCheck 3 failed: Time coordinates are not monotonic or do not use the same calendar across all datasets. A majority of them are different from each other.\n",
      "\u001b[0m\u001b[31mCheck 4 failed: Units are not equivalent across all datasets. A majority of them are different from each other.\n",
      "\u001b[0m\n"
     ]
    }
   ],
   "source": [
    "from check_zarr import *\n",
    "\n",
    "# check_zarr(['/projects/dgs/persad_research/SIMULATION_DATA/ZARR/RAMIP/SIM_VARIABLES/CESM2_ssp370-LE_day_sfcWind.zarr', '/projects/dgs/persad_research/SIMULATION_DATA/ZARR/RAMIP/SIM_VARIABLES/CESM2_ssp370-LE_day_tasmax.zarr'], False)\n",
    "check_zarr(['/projects/dgs/persad_research/SIMULATION_DATA/ZARR/RAMIP/SIM_VARIABLES/CESM2_ssp370-LE_day_sfcWind.zarr', '/projects/dgs/persad_research/SIMULATION_DATA/ZARR/RAMIP/SIM_VARIABLES/NorESM2-LM_ssp370-ramip_day_pr.zarr'], False)"
   ]
  },
  {
   "cell_type": "code",
   "execution_count": null,
   "metadata": {},
   "outputs": [],
   "source": []
  },
  {
   "cell_type": "code",
   "execution_count": 2,
   "metadata": {},
   "outputs": [],
   "source": [
    "# check_zarr('/projects/dgs/persad_research/SIMULATION_DATA/ZARR/RAMIP/SIM_VARIABLES/CESM2_ssp370-EAS126aer_day_hurs.zarr', True)"
   ]
  }
 ],
 "metadata": {
  "kernelspec": {
   "display_name": "lab",
   "language": "python",
   "name": "python3"
  },
  "language_info": {
   "codemirror_mode": {
    "name": "ipython",
    "version": 3
   },
   "file_extension": ".py",
   "mimetype": "text/x-python",
   "name": "python",
   "nbconvert_exporter": "python",
   "pygments_lexer": "ipython3",
   "version": "3.12.4"
  }
 },
 "nbformat": 4,
 "nbformat_minor": 2
}
