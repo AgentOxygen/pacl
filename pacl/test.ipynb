{
 "cells": [
  {
   "cell_type": "code",
   "execution_count": 1,
   "metadata": {},
   "outputs": [
    {
     "name": "stdout",
     "output_type": "stream",
     "text": [
      "\u001b[36mCheck 2 Err Output: \n",
      "Comparing CESM2_ssp370-LE_day_sfcWind.zarr and CESM2_ssp370-LE_day_tasmax.zarr\n",
      "The data variable names are NOT the same. Here are the names: \u001b[0m\n",
      "['lat_bnds', 'lon_bnds', 'sfcWind', 'time_bnds']\n",
      "['lat_bnds', 'lon_bnds', 'tasmax', 'time_bnds']\n",
      "\n",
      "\u001b[36mCheck 4 Err Output: \n",
      "Comparing CESM2_ssp370-LE_day_sfcWind.zarr and CESM2_ssp370-LE_day_tasmax.zarr\n",
      "The data variables NOT the same, so the units check fails by default.\u001b[0m\n",
      "\n",
      "\n",
      "\n",
      "SUMMARY: 2/4 checks passed.\n",
      "=============================================================\n",
      "\u001b[32mCheck 1 passed: Spatial coordinates are equivalent across all datasets.\n",
      "\u001b[0m\u001b[31mCheck 2 failed: Variables do not have the same name across all datasets. A majority of them are different from each other.\n",
      "\u001b[0m\u001b[32mCheck 3 passed: Time coordinates are monotonic and use the same calendar across all datasets.\n",
      "\u001b[0m\u001b[31mCheck 4 failed: Units are not equivalent across all datasets. A majority of them are different from each other.\n",
      "\u001b[0m\n"
     ]
    }
   ],
   "source": [
    "from check_zarr import *\n",
    "\n",
    "# this one will fail 2/4 bc they're different variables lol\n",
    "check_zarr(['/projects/dgs/persad_research/SIMULATION_DATA/ZARR/RAMIP/SIM_VARIABLES/CESM2_ssp370-LE_day_sfcWind.zarr', '/projects/dgs/persad_research/SIMULATION_DATA/ZARR/RAMIP/SIM_VARIABLES/CESM2_ssp370-LE_day_tasmax.zarr'], True)\n"
   ]
  },
  {
   "cell_type": "code",
   "execution_count": 2,
   "metadata": {},
   "outputs": [
    {
     "name": "stdout",
     "output_type": "stream",
     "text": [
      "\u001b[36mCheck 1 Err Output: \n",
      "Comparing CESM2_ssp370-NAE126aer_day_sfcWind.zarr and CESM2_ssp370-LE_day_sfcWind.zarr\n",
      "The lat dimension does not have the same values. (It's possible that more dimensions also do not have the same values.) Here are the first 10 values that are different: \u001b[0m\n",
      "-71.15183246073298 != -71.15183246073299 (index 20)\n",
      "-69.26701570680629 != -69.26701570680628 (index 22)\n",
      "-60.78534031413612 != -60.78534031413613 (index 31)\n",
      "-31.57068062827225 != -31.570680628272253 (index 62)\n",
      "-27.80104712041885 != -27.801047120418847 (index 66)\n",
      "-26.8586387434555 != -26.858638743455497 (index 67)\n",
      "-25.916230366492144 != -25.916230366492147 (index 68)\n",
      "-24.9738219895288 != -24.973821989528798 (index 69)\n",
      "-23.0890052356021 != -23.089005235602095 (index 71)\n",
      "-21.204188481675388 != -21.20418848167539 (index 73)\n",
      "\n",
      "\n",
      "\n",
      "SUMMARY: 3/4 checks passed.\n",
      "=============================================================\n",
      "\u001b[31mCheck 1 failed: Spatial coordinates are not equivalent across all datasets. The following datasets (1/5) are different from the majority opinion: ['CESM2_ssp370-LE_day_sfcWind.zarr']\n",
      "\u001b[0m\u001b[32mCheck 2 passed: Variables have the same name across all datasets.\n",
      "\u001b[0m\u001b[32mCheck 3 passed: Time coordinates are monotonic and use the same calendar across all datasets.\n",
      "\u001b[0m\u001b[32mCheck 4 passed: Units are equivalent across all datasets.\n",
      "\u001b[0m\n"
     ]
    }
   ],
   "source": [
    "\n",
    "# only 1/5 of the datasets is different from majority here \n",
    "check_zarr(['/projects/dgs/persad_research/SIMULATION_DATA/ZARR/RAMIP/SIM_VARIABLES/CESM2_ssp370-LE_day_sfcWind.zarr', '/projects/dgs/persad_research/SIMULATION_DATA/ZARR/RAMIP/SIM_VARIABLES/CESM2_ssp370-AFR126aer_day_sfcWind.zarr', '/projects/dgs/persad_research/SIMULATION_DATA/ZARR/RAMIP/SIM_VARIABLES/CESM2_ssp370-NAE126aer_day_sfcWind.zarr', '/projects/dgs/persad_research/SIMULATION_DATA/ZARR/RAMIP/SIM_VARIABLES/CESM2_ssp370-EAS126aer_day_sfcWind.zarr', '/projects/dgs/persad_research/SIMULATION_DATA/ZARR/RAMIP/SIM_VARIABLES/CESM2_ssp370-126aer_day_sfcWind.zarr'], True)"
   ]
  },
  {
   "cell_type": "code",
   "execution_count": 3,
   "metadata": {},
   "outputs": [
    {
     "name": "stdout",
     "output_type": "stream",
     "text": [
      "\u001b[36mCheck 1 Err Output: \n",
      "Comparing CESM2_ssp370-NAE126aer_day_tasmax.zarr and CESM2_ssp370-LE_day_tasmax.zarr\n",
      "The lat dimension does not have the same values. (It's possible that more dimensions also do not have the same values.) Here are the first 10 values that are different: \u001b[0m\n",
      "-71.15183246073298 != -71.15183246073299 (index 20)\n",
      "-69.26701570680629 != -69.26701570680628 (index 22)\n",
      "-60.78534031413612 != -60.78534031413613 (index 31)\n",
      "-31.57068062827225 != -31.570680628272253 (index 62)\n",
      "-27.80104712041885 != -27.801047120418847 (index 66)\n",
      "-26.8586387434555 != -26.858638743455497 (index 67)\n",
      "-25.916230366492144 != -25.916230366492147 (index 68)\n",
      "-24.9738219895288 != -24.973821989528798 (index 69)\n",
      "-23.0890052356021 != -23.089005235602095 (index 71)\n",
      "-21.204188481675388 != -21.20418848167539 (index 73)\n",
      "\n",
      "\n",
      "\n",
      "SUMMARY: 3/4 checks passed.\n",
      "=============================================================\n",
      "\u001b[31mCheck 1 failed: Spatial coordinates are not equivalent across all datasets. The following datasets (1/5) are different from the majority opinion: ['CESM2_ssp370-LE_day_tasmax.zarr']\n",
      "\u001b[0m\u001b[32mCheck 2 passed: Variables have the same name across all datasets.\n",
      "\u001b[0m\u001b[32mCheck 3 passed: Time coordinates are monotonic and use the same calendar across all datasets.\n",
      "\u001b[0m\u001b[32mCheck 4 passed: Units are equivalent across all datasets.\n",
      "\u001b[0m\n"
     ]
    }
   ],
   "source": [
    "check_zarr(['/projects/dgs/persad_research/SIMULATION_DATA/ZARR/RAMIP/SIM_VARIABLES/CESM2_ssp370-LE_day_tasmax.zarr', '/projects/dgs/persad_research/SIMULATION_DATA/ZARR/RAMIP/SIM_VARIABLES/CESM2_ssp370-AFR126aer_day_tasmax.zarr', '/projects/dgs/persad_research/SIMULATION_DATA/ZARR/RAMIP/SIM_VARIABLES/CESM2_ssp370-NAE126aer_day_tasmax.zarr', '/projects/dgs/persad_research/SIMULATION_DATA/ZARR/RAMIP/SIM_VARIABLES/CESM2_ssp370-EAS126aer_day_tasmax.zarr', '/projects/dgs/persad_research/SIMULATION_DATA/ZARR/RAMIP/SIM_VARIABLES/CESM2_ssp370-126aer_day_tasmax.zarr'], True)\n"
   ]
  },
  {
   "cell_type": "code",
   "execution_count": 4,
   "metadata": {},
   "outputs": [
    {
     "name": "stdout",
     "output_type": "stream",
     "text": [
      "Spatial dims do not have the same shape\n",
      "\n",
      "\n",
      "SUMMARY: 2/4 checks passed.\n",
      "=============================================================\n",
      "\u001b[31mCheck 1 failed: Spatial coordinates are not equivalent across all datasets. A majority of them are different from each other.\n",
      "\u001b[0m\u001b[32mCheck 2 passed: Variables have the same name across all datasets.\n",
      "\u001b[0m\u001b[31mCheck 3 failed: Time coordinates are not monotonic or do not use the same calendar across all datasets. A majority of them are different from each other.\n",
      "\u001b[0m\u001b[32mCheck 4 passed: Units are equivalent across all datasets.\n",
      "\u001b[0m\n"
     ]
    }
   ],
   "source": [
    "# try to check between two different models \n",
    "check_zarr(['/projects/dgs/persad_research/SIMULATION_DATA/ZARR/RAMIP/SIM_VARIABLES/NorESM2-LM_ssp370-afr126aer_day_sfcWind.zarr', '/projects/dgs/persad_research/SIMULATION_DATA/ZARR/RAMIP/SIM_VARIABLES/CESM2_ssp370-AFR126aer_day_sfcWind.zarr'], True)"
   ]
  },
  {
   "cell_type": "code",
   "execution_count": 5,
   "metadata": {},
   "outputs": [],
   "source": [
    "# check_zarr('/projects/dgs/persad_research/SIMULATION_DATA/ZARR/RAMIP/SIM_VARIABLES/CESM2_ssp370-EAS126aer_day_hurs.zarr', True)"
   ]
  }
 ],
 "metadata": {
  "kernelspec": {
   "display_name": "lab",
   "language": "python",
   "name": "python3"
  },
  "language_info": {
   "codemirror_mode": {
    "name": "ipython",
    "version": 3
   },
   "file_extension": ".py",
   "mimetype": "text/x-python",
   "name": "python",
   "nbconvert_exporter": "python",
   "pygments_lexer": "ipython3",
   "version": "3.12.4"
  }
 },
 "nbformat": 4,
 "nbformat_minor": 2
}
