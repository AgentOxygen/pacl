{
 "cells": [
  {
   "cell_type": "code",
   "execution_count": 1,
   "metadata": {},
   "outputs": [
    {
     "name": "stdout",
     "output_type": "stream",
     "text": [
      "\n",
      "\n",
      "SUMMARY: 3/4 checks passed.\n",
      "=============================================================\n",
      "\u001b[31mCheck 1 failed: Spatial coordinates are not equivalent across all datasets. The following datasets (1/3) are different from the majority dataset: ['/projects/dgs/persad_research/SIMULATION_DATA/ZARR/RAMIP/SIM_VARIABLES/CESM2_ssp370-LE_day_sfcWind.zarr']\n",
      "\u001b[0m\u001b[32mCheck 2 passed: Variables have the same name across all datasets.\n",
      "\u001b[0m\u001b[32mCheck 3 passed: Time coordinates are monotonic and use the same calendar across all datasets.\n",
      "\u001b[0m\u001b[32mCheck 4 passed: Units are equivalent across all datasets.\n",
      "\u001b[0m\n",
      "If you would like more information on why the checks failed, run the function with the verbose flag set to True. To avoid this output becoming too long, we would recommend running the function with just two ZARR stores at a time.\n"
     ]
    }
   ],
   "source": [
    "from check_zarr import *\n",
    "\n",
    "# this one will fail 2/4 bc they're different variables lol\n",
    "# check_zarr(['/projects/dgs/persad_research/SIMULATION_DATA/ZARR/RAMIP/SIM_VARIABLES/CESM2_ssp370-LE_day_sfcWind.zarr', '/projects/dgs/persad_research/SIMULATION_DATA/ZARR/RAMIP/SIM_VARIABLES/CESM2_ssp370-LE_day_tasmax.zarr'], True)\n",
    "\n",
    "# this one will fail 1/4 bc of spatial coordinate values \n",
    "# check_zarr(['/projects/dgs/persad_research/SIMULATION_DATA/ZARR/RAMIP/SIM_VARIABLES/CESM2_ssp370-LE_day_sfcWind.zarr', '/projects/dgs/persad_research/SIMULATION_DATA/ZARR/RAMIP/SIM_VARIABLES/CESM2_ssp370-AFR126aer_day_sfcWind.zarr'], True)\n",
    "\n",
    "\n",
    "check_zarr(['/projects/dgs/persad_research/SIMULATION_DATA/ZARR/RAMIP/SIM_VARIABLES/CESM2_ssp370-LE_day_sfcWind.zarr', '/projects/dgs/persad_research/SIMULATION_DATA/ZARR/RAMIP/SIM_VARIABLES/CESM2_ssp370-AFR126aer_day_sfcWind.zarr', '/projects/dgs/persad_research/SIMULATION_DATA/ZARR/RAMIP/SIM_VARIABLES/CESM2_ssp370-NAE126aer_day_sfcWind.zarr'], True)\n"
   ]
  },
  {
   "cell_type": "code",
   "execution_count": null,
   "metadata": {},
   "outputs": [],
   "source": []
  },
  {
   "cell_type": "code",
   "execution_count": 2,
   "metadata": {},
   "outputs": [],
   "source": [
    "# check_zarr('/projects/dgs/persad_research/SIMULATION_DATA/ZARR/RAMIP/SIM_VARIABLES/CESM2_ssp370-EAS126aer_day_hurs.zarr', True)"
   ]
  }
 ],
 "metadata": {
  "kernelspec": {
   "display_name": "lab",
   "language": "python",
   "name": "python3"
  },
  "language_info": {
   "codemirror_mode": {
    "name": "ipython",
    "version": 3
   },
   "file_extension": ".py",
   "mimetype": "text/x-python",
   "name": "python",
   "nbconvert_exporter": "python",
   "pygments_lexer": "ipython3",
   "version": "3.12.4"
  }
 },
 "nbformat": 4,
 "nbformat_minor": 2
}
