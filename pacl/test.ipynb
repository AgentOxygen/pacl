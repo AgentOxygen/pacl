{
 "cells": [
  {
   "cell_type": "code",
   "execution_count": 1,
   "metadata": {},
   "outputs": [
    {
     "name": "stdout",
     "output_type": "stream",
     "text": [
      "Checking single zarr store:  /projects/dgs/persad_research/SIMULATION_DATA/ZARR/RAMIP/SIM_VARIABLES/ERA5_tasmax_1988_1990_correction_reference.zarr\n",
      "<xarray.Dataset> Size: 265kB\n",
      "Dimensions:      (lat: 181, lon: 360)\n",
      "Coordinates:\n",
      "  * lat          (lat) float64 1kB -90.0 -89.0 -88.0 -87.0 ... 88.0 89.0 90.0\n",
      "  * lon          (lon) float64 3kB -180.0 -179.0 -178.0 ... 177.0 178.0 179.0\n",
      "    realization  int64 8B ...\n",
      "Data variables:\n",
      "    t2m          (lat, lon) float32 261kB dask.array<chunksize=(103, 360), meta=np.ndarray>\n",
      "\n",
      "\n",
      "\n",
      "xarray.Dataset {\n",
      "dimensions:\n",
      "\tlat = 181 ;\n",
      "\tlon = 360 ;\n",
      "\n",
      "variables:\n",
      "\tfloat64 lat(lat) ;\n",
      "\t\tlat:axis = Y ;\n",
      "\t\tlat:long_name = latitude ;\n",
      "\t\tlat:positive = up ;\n",
      "\t\tlat:standard_name = latitude ;\n",
      "\t\tlat:stored_direction = decreasing ;\n",
      "\t\tlat:type = double ;\n",
      "\t\tlat:units = degrees_north ;\n",
      "\t\tlat:valid_max = 90.0 ;\n",
      "\t\tlat:valid_min = -90.0 ;\n",
      "\tfloat64 lon(lon) ;\n",
      "\t\tlon:axis = X ;\n",
      "\t\tlon:long_name = longitude ;\n",
      "\t\tlon:positive = up ;\n",
      "\t\tlon:standard_name = longitude ;\n",
      "\t\tlon:type = double ;\n",
      "\t\tlon:units = degrees_east ;\n",
      "\t\tlon:valid_max = 360.0 ;\n",
      "\t\tlon:valid_min = -180.0 ;\n",
      "\tint64 realization() ;\n",
      "\t\trealization:long_name = realization ;\n",
      "\t\trealization:standard_name = realization ;\n",
      "\t\trealization:stored_direction = increasing ;\n",
      "\t\trealization:type = integer ;\n",
      "\t\trealization:units = 1 ;\n",
      "\tfloat32 t2m(lat, lon) ;\n",
      "\n",
      "// global attributes:\n",
      "}None\n",
      "\n",
      "\n",
      "\n",
      "<xarray.DataArray 't2m' (lat: 181, lon: 360)> Size: 261kB\n",
      "dask.array<open_dataset-t2m, shape=(181, 360), dtype=float32, chunksize=(103, 360), chunktype=numpy.ndarray>\n",
      "Coordinates:\n",
      "  * lat          (lat) float64 1kB -90.0 -89.0 -88.0 -87.0 ... 88.0 89.0 90.0\n",
      "  * lon          (lon) float64 3kB -180.0 -179.0 -178.0 ... 177.0 178.0 179.0\n",
      "    realization  int64 8B ...\n",
      "\n"
     ]
    },
    {
     "data": {
      "text/plain": [
       "<Figure size 640x480 with 0 Axes>"
      ]
     },
     "metadata": {},
     "output_type": "display_data"
    },
    {
     "ename": "IndexError",
     "evalue": "list index out of range",
     "output_type": "error",
     "traceback": [
      "\u001b[0;31m---------------------------------------------------------------------------\u001b[0m",
      "\u001b[0;31mIndexError\u001b[0m                                Traceback (most recent call last)",
      "Cell \u001b[0;32mIn[1], line 3\u001b[0m\n\u001b[1;32m      1\u001b[0m \u001b[38;5;28;01mfrom\u001b[39;00m \u001b[38;5;21;01mcheck_zarr\u001b[39;00m \u001b[38;5;28;01mimport\u001b[39;00m \u001b[38;5;241m*\u001b[39m\n\u001b[0;32m----> 3\u001b[0m \u001b[43mcheck_zarr\u001b[49m\u001b[43m(\u001b[49m\u001b[38;5;124;43m'\u001b[39;49m\u001b[38;5;124;43m/projects/dgs/persad_research/SIMULATION_DATA/ZARR/RAMIP/SIM_VARIABLES/ERA5_tasmax_1988_1990_correction_reference.zarr\u001b[39;49m\u001b[38;5;124;43m'\u001b[39;49m\u001b[43m,\u001b[49m\u001b[43m \u001b[49m\u001b[38;5;28;43;01mTrue\u001b[39;49;00m\u001b[43m)\u001b[49m\n",
      "File \u001b[0;32m~/pacl/pacl/check_zarr.py:101\u001b[0m, in \u001b[0;36mcheck_zarr\u001b[0;34m(paths, debugging)\u001b[0m\n\u001b[1;32m     99\u001b[0m \u001b[38;5;66;03m# Check if paths is a string or list\u001b[39;00m\n\u001b[1;32m    100\u001b[0m \u001b[38;5;28;01mif\u001b[39;00m(\u001b[38;5;28misinstance\u001b[39m(paths, \u001b[38;5;28mstr\u001b[39m)):\n\u001b[0;32m--> 101\u001b[0m     \u001b[43mcheck_single\u001b[49m\u001b[43m(\u001b[49m\u001b[43mpaths\u001b[49m\u001b[43m,\u001b[49m\u001b[43m \u001b[49m\u001b[43mdebugging\u001b[49m\u001b[43m)\u001b[49m\n\u001b[1;32m    106\u001b[0m \u001b[38;5;28mprint\u001b[39m(\u001b[38;5;124m\"\u001b[39m\u001b[38;5;124mCheck 1 has failed/passed?\u001b[39m\u001b[38;5;124m\"\u001b[39m)\n\u001b[1;32m    111\u001b[0m \u001b[38;5;28;01mreturn\u001b[39;00m \u001b[38;5;28;01mNone\u001b[39;00m\n",
      "File \u001b[0;32m~/pacl/pacl/check_zarr.py:73\u001b[0m, in \u001b[0;36mcheck_single\u001b[0;34m(path, debugging)\u001b[0m\n\u001b[1;32m     71\u001b[0m     data_\u001b[38;5;241m.\u001b[39mmean(dim\u001b[38;5;241m=\u001b[39mspatial_dims)\u001b[38;5;241m.\u001b[39mplot\u001b[38;5;241m.\u001b[39mpcolormesh(x\u001b[38;5;241m=\u001b[39m\u001b[38;5;124m'\u001b[39m\u001b[38;5;124mtime\u001b[39m\u001b[38;5;124m'\u001b[39m, y\u001b[38;5;241m=\u001b[39m\u001b[38;5;124m'\u001b[39m\u001b[38;5;124mnew_dim\u001b[39m\u001b[38;5;124m'\u001b[39m)\n\u001b[1;32m     72\u001b[0m \u001b[38;5;28;01melse\u001b[39;00m:\n\u001b[0;32m---> 73\u001b[0m     data\u001b[38;5;241m.\u001b[39mmean(dim\u001b[38;5;241m=\u001b[39mspatial_dims)\u001b[38;5;241m.\u001b[39mplot\u001b[38;5;241m.\u001b[39mpcolormesh(x\u001b[38;5;241m=\u001b[39m\u001b[38;5;124m'\u001b[39m\u001b[38;5;124mtime\u001b[39m\u001b[38;5;124m'\u001b[39m, y\u001b[38;5;241m=\u001b[39m\u001b[43mother_dimensions\u001b[49m\u001b[43m[\u001b[49m\u001b[38;5;241;43m0\u001b[39;49m\u001b[43m]\u001b[49m)\n\u001b[1;32m     74\u001b[0m plt\u001b[38;5;241m.\u001b[39msuptitle(\u001b[38;5;124m\"\u001b[39m\u001b[38;5;124mMean over spatial dimensions\u001b[39m\u001b[38;5;124m\"\u001b[39m)\n\u001b[1;32m     75\u001b[0m plt\u001b[38;5;241m.\u001b[39mshow()\n",
      "\u001b[0;31mIndexError\u001b[0m: list index out of range"
     ]
    }
   ],
   "source": [
    "from check_zarr import *\n",
    "\n",
    "check_zarr('/projects/dgs/persad_research/SIMULATION_DATA/ZARR/RAMIP/SIM_VARIABLES/ERA5_tasmax_1988_1990_correction_reference.zarr', True)"
   ]
  },
  {
   "cell_type": "code",
   "execution_count": 2,
   "metadata": {},
   "outputs": [
    {
     "name": "stdout",
     "output_type": "stream",
     "text": [
      "Checking single zarr store:  /projects/dgs/persad_research/SIMULATION_DATA/ZARR/RAMIP/SIM_VARIABLES/ERA5_tasmax_1988_1990_correction_reference.zarr\n",
      "<xarray.Dataset> Size: 265kB\n",
      "Dimensions:      (lat: 181, lon: 360)\n",
      "Coordinates:\n",
      "  * lat          (lat) float64 1kB -90.0 -89.0 -88.0 -87.0 ... 88.0 89.0 90.0\n",
      "  * lon          (lon) float64 3kB -180.0 -179.0 -178.0 ... 177.0 178.0 179.0\n",
      "    realization  int64 8B ...\n",
      "Data variables:\n",
      "    t2m          (lat, lon) float32 261kB dask.array<chunksize=(103, 360), meta=np.ndarray>\n",
      "\n",
      "\n",
      "\n",
      "xarray.Dataset {\n",
      "dimensions:\n",
      "\tlat = 181 ;\n",
      "\tlon = 360 ;\n",
      "\n",
      "variables:\n",
      "\tfloat64 lat(lat) ;\n",
      "\t\tlat:axis = Y ;\n",
      "\t\tlat:long_name = latitude ;\n",
      "\t\tlat:positive = up ;\n",
      "\t\tlat:standard_name = latitude ;\n",
      "\t\tlat:stored_direction = decreasing ;\n",
      "\t\tlat:type = double ;\n",
      "\t\tlat:units = degrees_north ;\n",
      "\t\tlat:valid_max = 90.0 ;\n",
      "\t\tlat:valid_min = -90.0 ;\n",
      "\tfloat64 lon(lon) ;\n",
      "\t\tlon:axis = X ;\n",
      "\t\tlon:long_name = longitude ;\n",
      "\t\tlon:positive = up ;\n",
      "\t\tlon:standard_name = longitude ;\n",
      "\t\tlon:type = double ;\n",
      "\t\tlon:units = degrees_east ;\n",
      "\t\tlon:valid_max = 360.0 ;\n",
      "\t\tlon:valid_min = -180.0 ;\n",
      "\tint64 realization() ;\n",
      "\t\trealization:long_name = realization ;\n",
      "\t\trealization:standard_name = realization ;\n",
      "\t\trealization:stored_direction = increasing ;\n",
      "\t\trealization:type = integer ;\n",
      "\t\trealization:units = 1 ;\n",
      "\tfloat32 t2m(lat, lon) ;\n",
      "\n",
      "// global attributes:\n",
      "}None\n",
      "\n",
      "\n",
      "\n",
      "<xarray.DataArray 't2m' (lat: 181, lon: 360)> Size: 261kB\n",
      "dask.array<open_dataset-t2m, shape=(181, 360), dtype=float32, chunksize=(103, 360), chunktype=numpy.ndarray>\n",
      "Coordinates:\n",
      "  * lat          (lat) float64 1kB -90.0 -89.0 -88.0 -87.0 ... 88.0 89.0 90.0\n",
      "  * lon          (lon) float64 3kB -180.0 -179.0 -178.0 ... 177.0 178.0 179.0\n",
      "    realization  int64 8B ...\n",
      "\n"
     ]
    },
    {
     "ename": "TypeError",
     "evalue": "No numeric data to plot.",
     "output_type": "error",
     "traceback": [
      "\u001b[0;31m---------------------------------------------------------------------------\u001b[0m",
      "\u001b[0;31mTypeError\u001b[0m                                 Traceback (most recent call last)",
      "Cell \u001b[0;32mIn[2], line 1\u001b[0m\n\u001b[0;32m----> 1\u001b[0m \u001b[43mcheck_zarr\u001b[49m\u001b[43m(\u001b[49m\u001b[38;5;124;43m'\u001b[39;49m\u001b[38;5;124;43m/projects/dgs/persad_research/SIMULATION_DATA/ZARR/RAMIP/SIM_VARIABLES/ERA5_tasmax_1988_1990_correction_reference.zarr\u001b[39;49m\u001b[38;5;124;43m'\u001b[39;49m\u001b[43m,\u001b[49m\u001b[43m \u001b[49m\u001b[38;5;28;43;01mTrue\u001b[39;49;00m\u001b[43m)\u001b[49m\n",
      "File \u001b[0;32m~/pacl/pacl/check_zarr.py:100\u001b[0m, in \u001b[0;36mcheck_zarr\u001b[0;34m(paths, debugging)\u001b[0m\n\u001b[1;32m     98\u001b[0m \u001b[38;5;66;03m# Check if paths is a string or list\u001b[39;00m\n\u001b[1;32m     99\u001b[0m \u001b[38;5;28;01mif\u001b[39;00m(\u001b[38;5;28misinstance\u001b[39m(paths, \u001b[38;5;28mstr\u001b[39m)):\n\u001b[0;32m--> 100\u001b[0m     \u001b[43mcheck_single\u001b[49m\u001b[43m(\u001b[49m\u001b[43mpaths\u001b[49m\u001b[43m,\u001b[49m\u001b[43m \u001b[49m\u001b[43mdebugging\u001b[49m\u001b[43m)\u001b[49m\n\u001b[1;32m    105\u001b[0m \u001b[38;5;28mprint\u001b[39m(\u001b[38;5;124m\"\u001b[39m\u001b[38;5;124mCheck 1 has failed/passed?\u001b[39m\u001b[38;5;124m\"\u001b[39m)\n\u001b[1;32m    110\u001b[0m \u001b[38;5;28;01mreturn\u001b[39;00m \u001b[38;5;28;01mNone\u001b[39;00m\n",
      "File \u001b[0;32m~/pacl/pacl/check_zarr.py:62\u001b[0m, in \u001b[0;36mcheck_single\u001b[0;34m(path, debugging)\u001b[0m\n\u001b[1;32m     60\u001b[0m     data\u001b[38;5;241m.\u001b[39mmean(dim\u001b[38;5;241m=\u001b[39mspatial_dims)\u001b[38;5;241m.\u001b[39mplot\u001b[38;5;241m.\u001b[39mline(x\u001b[38;5;241m=\u001b[39m\u001b[38;5;124m'\u001b[39m\u001b[38;5;124mtime\u001b[39m\u001b[38;5;124m'\u001b[39m, hue\u001b[38;5;241m=\u001b[39mother_dimensions[\u001b[38;5;241m0\u001b[39m])\n\u001b[1;32m     61\u001b[0m \u001b[38;5;28;01melse\u001b[39;00m:\n\u001b[0;32m---> 62\u001b[0m     \u001b[43mdata\u001b[49m\u001b[38;5;241;43m.\u001b[39;49m\u001b[43mmean\u001b[49m\u001b[43m(\u001b[49m\u001b[43mdim\u001b[49m\u001b[38;5;241;43m=\u001b[39;49m\u001b[43mspatial_dims\u001b[49m\u001b[43m)\u001b[49m\u001b[38;5;241;43m.\u001b[39;49m\u001b[43mplot\u001b[49m\u001b[38;5;241;43m.\u001b[39;49m\u001b[43mline\u001b[49m\u001b[43m(\u001b[49m\u001b[43mx\u001b[49m\u001b[38;5;241;43m=\u001b[39;49m\u001b[38;5;124;43m'\u001b[39;49m\u001b[38;5;124;43mtime\u001b[39;49m\u001b[38;5;124;43m'\u001b[39;49m\u001b[43m)\u001b[49m\n\u001b[1;32m     64\u001b[0m plt\u001b[38;5;241m.\u001b[39msuptitle(\u001b[38;5;124m\"\u001b[39m\u001b[38;5;124mMean over spatial dimensions\u001b[39m\u001b[38;5;124m\"\u001b[39m)\n\u001b[1;32m     65\u001b[0m plt\u001b[38;5;241m.\u001b[39mshow()\n",
      "File \u001b[0;32m/home/jupyterhub/miniconda-persad/envs/lab/lib/python3.12/site-packages/xarray/plot/accessor.py:136\u001b[0m, in \u001b[0;36mDataArrayPlotAccessor.line\u001b[0;34m(self, *args, **kwargs)\u001b[0m\n\u001b[1;32m    134\u001b[0m \u001b[38;5;129m@functools\u001b[39m\u001b[38;5;241m.\u001b[39mwraps(dataarray_plot\u001b[38;5;241m.\u001b[39mline, assigned\u001b[38;5;241m=\u001b[39m(\u001b[38;5;124m\"\u001b[39m\u001b[38;5;124m__doc__\u001b[39m\u001b[38;5;124m\"\u001b[39m,))\n\u001b[1;32m    135\u001b[0m \u001b[38;5;28;01mdef\u001b[39;00m \u001b[38;5;21mline\u001b[39m(\u001b[38;5;28mself\u001b[39m, \u001b[38;5;241m*\u001b[39margs, \u001b[38;5;241m*\u001b[39m\u001b[38;5;241m*\u001b[39mkwargs) \u001b[38;5;241m-\u001b[39m\u001b[38;5;241m>\u001b[39m \u001b[38;5;28mlist\u001b[39m[Line3D] \u001b[38;5;241m|\u001b[39m FacetGrid[DataArray]:\n\u001b[0;32m--> 136\u001b[0m     \u001b[38;5;28;01mreturn\u001b[39;00m \u001b[43mdataarray_plot\u001b[49m\u001b[38;5;241;43m.\u001b[39;49m\u001b[43mline\u001b[49m\u001b[43m(\u001b[49m\u001b[38;5;28;43mself\u001b[39;49m\u001b[38;5;241;43m.\u001b[39;49m\u001b[43m_da\u001b[49m\u001b[43m,\u001b[49m\u001b[43m \u001b[49m\u001b[38;5;241;43m*\u001b[39;49m\u001b[43margs\u001b[49m\u001b[43m,\u001b[49m\u001b[43m \u001b[49m\u001b[38;5;241;43m*\u001b[39;49m\u001b[38;5;241;43m*\u001b[39;49m\u001b[43mkwargs\u001b[49m\u001b[43m)\u001b[49m\n",
      "File \u001b[0;32m/home/jupyterhub/miniconda-persad/envs/lab/lib/python3.12/site-packages/xarray/plot/dataarray_plot.py:485\u001b[0m, in \u001b[0;36mline\u001b[0;34m(darray, row, col, figsize, aspect, size, ax, hue, x, y, xincrease, yincrease, xscale, yscale, xticks, yticks, xlim, ylim, add_legend, _labels, *args, **kwargs)\u001b[0m\n\u001b[1;32m    482\u001b[0m ndims \u001b[38;5;241m=\u001b[39m \u001b[38;5;28mlen\u001b[39m(darray\u001b[38;5;241m.\u001b[39mdims)\n\u001b[1;32m    483\u001b[0m \u001b[38;5;28;01mif\u001b[39;00m ndims \u001b[38;5;241m==\u001b[39m \u001b[38;5;241m0\u001b[39m \u001b[38;5;129;01mor\u001b[39;00m darray\u001b[38;5;241m.\u001b[39msize \u001b[38;5;241m==\u001b[39m \u001b[38;5;241m0\u001b[39m:\n\u001b[1;32m    484\u001b[0m     \u001b[38;5;66;03m# TypeError to be consistent with pandas\u001b[39;00m\n\u001b[0;32m--> 485\u001b[0m     \u001b[38;5;28;01mraise\u001b[39;00m \u001b[38;5;167;01mTypeError\u001b[39;00m(\u001b[38;5;124m\"\u001b[39m\u001b[38;5;124mNo numeric data to plot.\u001b[39m\u001b[38;5;124m\"\u001b[39m)\n\u001b[1;32m    486\u001b[0m \u001b[38;5;28;01mif\u001b[39;00m ndims \u001b[38;5;241m>\u001b[39m \u001b[38;5;241m2\u001b[39m:\n\u001b[1;32m    487\u001b[0m     \u001b[38;5;28;01mraise\u001b[39;00m \u001b[38;5;167;01mValueError\u001b[39;00m(\n\u001b[1;32m    488\u001b[0m         \u001b[38;5;124m\"\u001b[39m\u001b[38;5;124mLine plots are for 1- or 2-dimensional DataArrays. \u001b[39m\u001b[38;5;124m\"\u001b[39m\n\u001b[1;32m    489\u001b[0m         \u001b[38;5;124mf\u001b[39m\u001b[38;5;124m\"\u001b[39m\u001b[38;5;124mPassed DataArray has \u001b[39m\u001b[38;5;132;01m{\u001b[39;00mndims\u001b[38;5;132;01m}\u001b[39;00m\u001b[38;5;124m \u001b[39m\u001b[38;5;124m\"\u001b[39m\n\u001b[1;32m    490\u001b[0m         \u001b[38;5;124m\"\u001b[39m\u001b[38;5;124mdimensions\u001b[39m\u001b[38;5;124m\"\u001b[39m\n\u001b[1;32m    491\u001b[0m     )\n",
      "\u001b[0;31mTypeError\u001b[0m: No numeric data to plot."
     ]
    }
   ],
   "source": []
  },
  {
   "cell_type": "code",
   "execution_count": null,
   "metadata": {},
   "outputs": [],
   "source": [
    "check_zarr('/projects/dgs/persad_research/SIMULATION_DATA/ZARR/RAMIP/SIM_VARIABLES/CESM2_ssp370-EAS126aer_day_hurs.zarr', True)"
   ]
  }
 ],
 "metadata": {
  "kernelspec": {
   "display_name": "lab",
   "language": "python",
   "name": "python3"
  },
  "language_info": {
   "codemirror_mode": {
    "name": "ipython",
    "version": 3
   },
   "file_extension": ".py",
   "mimetype": "text/x-python",
   "name": "python",
   "nbconvert_exporter": "python",
   "pygments_lexer": "ipython3",
   "version": "3.12.4"
  }
 },
 "nbformat": 4,
 "nbformat_minor": 2
}
